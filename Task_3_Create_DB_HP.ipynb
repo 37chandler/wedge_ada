{
 "cells": [
  {
   "cell_type": "markdown",
   "metadata": {},
   "source": [
    "# Task 3 - Create Database\n",
    "Builds a table to add more descriptive text to queries in regards to department."
   ]
  },
  {
   "cell_type": "markdown",
   "metadata": {},
   "source": [
    "#### Imports"
   ]
  },
  {
   "cell_type": "code",
   "execution_count": 6,
   "metadata": {},
   "outputs": [],
   "source": [
    "from google.cloud import bigquery\n",
    "from google.oauth2 import service_account\n",
    "\n",
    "import pandas as pd\n",
    "from pandas.io import gbq\n",
    "\n",
    "import sqlite3\n",
    "con = sqlite3.connect('Wedge_Task_3.db')"
   ]
  },
  {
   "cell_type": "markdown",
   "metadata": {},
   "source": [
    "#### Connect to GBQ"
   ]
  },
  {
   "cell_type": "code",
   "execution_count": 7,
   "metadata": {},
   "outputs": [],
   "source": [
    "service_path = ' '\n",
    "service_file = ' ' # change this to your authentication information  \n",
    "gbq_proj_id = ' ' # change this to your project. \n",
    "#gbq_dataset_id = ' ' # and change this to your data set ID\n",
    "gbq_dataset_id = ' ' # and change this to your data set ID\n",
    "\n",
    "# Creates private key\n",
    "private_key = service_path + service_file\n"
   ]
  },
  {
   "cell_type": "markdown",
   "metadata": {},
   "source": [
    "#### Credentials"
   ]
  },
  {
   "cell_type": "code",
   "execution_count": 8,
   "metadata": {},
   "outputs": [],
   "source": [
    "# Get your credentials\n",
    "credentials = service_account.Credentials.from_service_account_file(service_path + service_file)\n",
    "\n",
    "# And create a client to talk to GBQ\n",
    "client = bigquery.Client(credentials = credentials, project=gbq_proj_id)"
   ]
  },
  {
   "cell_type": "markdown",
   "metadata": {},
   "source": [
    "## Create Database"
   ]
  },
  {
   "cell_type": "markdown",
   "metadata": {},
   "source": [
    "#### Adds sales_by_date_by_hour.txt to db"
   ]
  },
  {
   "cell_type": "code",
   "execution_count": 23,
   "metadata": {},
   "outputs": [],
   "source": [
    "# Add query data to db.\n",
    "file1 = 'sales_by_date_by_hour.txt'\n",
    "db = sqlite3.connect(\"Wedge_Task_3.db\")\n",
    "cur = db.cursor()\n",
    "\n",
    "# drop table if it already exists and create table and schema\n",
    "cur.execute('''DROP TABLE IF EXISTS sales_by_date_by_hour''')\n",
    "cur.execute('''CREATE TABLE sales_by_date_by_hour (\n",
    "    Date TIMESTAMP,\n",
    "    Hour TIMESTAMP,\n",
    "    Sales REAL,\n",
    "    Transactions FLOAT,\n",
    "    Items INTEGER)''')\n",
    "\n",
    "# add data into the table in db\n",
    "with open(file1, 'r', encoding = 'Latin-1') as infile:\n",
    "    for idx,line in enumerate(infile.readlines()):\n",
    "        line = line.strip().split(',')\n",
    "        cur.execute('''\n",
    "        INSERT INTO sales_by_date_by_hour (Date, Hour, Sales, Transactions, Items)\n",
    "        VALUES (?,?,?,?,?)''', line)\n",
    "db.commit()"
   ]
  },
  {
   "cell_type": "markdown",
   "metadata": {},
   "source": [
    "#### Adds sales_by_owner_by_year_by_month.txt to db"
   ]
  },
  {
   "cell_type": "code",
   "execution_count": 24,
   "metadata": {},
   "outputs": [],
   "source": [
    "# Add query data to db.\n",
    "file2 = 'sales_by_owner_by_year_by_month.txt'\n",
    "db = sqlite3.connect(\"Wedge_Task_3.db\")\n",
    "cur = db.cursor()\n",
    "\n",
    "# drop table if it already exists and create table and schema\n",
    "cur.execute('''DROP TABLE IF EXISTS sales_by_owner_by_year_by_month''')\n",
    "cur.execute('''CREATE TABLE sales_by_owner_by_year_by_month (\n",
    "    Owner FLOAT,\n",
    "    Year TIMESTAMP,\n",
    "    Month TIMESTAMP,\n",
    "    Sales REAL,\n",
    "    Transactions FLOAT,\n",
    "    Items INTEGER)''')\n",
    "\n",
    "# add data into the table in db\n",
    "with open(file2, 'r', encoding = 'Latin-1') as infile:\n",
    "    for idx,line in enumerate(infile.readlines()):\n",
    "        line = line.strip().split(',')\n",
    "        cur.execute('''\n",
    "        INSERT INTO sales_by_owner_by_year_by_month (Owner, Year, Month, Sales, Transactions, Items)\n",
    "        VALUES (?,?,?,?,?,?)''', line)\n",
    "db.commit()"
   ]
  },
  {
   "cell_type": "markdown",
   "metadata": {},
   "source": [
    "#### Adds sales_by_product_description_by_year_by_month.txt to db"
   ]
  },
  {
   "cell_type": "code",
   "execution_count": 14,
   "metadata": {},
   "outputs": [],
   "source": [
    "# Add query data to db.\n",
    "\n",
    "# Add query data to db.\n",
    "file3 = 'sales_by_product_description_by_year_by_month.txt'\n",
    "db = sqlite3.connect(\"Wedge_Task_3.db\")\n",
    "cur = db.cursor()\n",
    "# drop table if it already exists and create table and schema\n",
    "cur.execute('''DROP TABLE IF EXISTS sales_by_product_description_by_year_by_month''')\n",
    "cur.execute('''CREATE TABLE sales_by_product_description_by_year_by_month (\n",
    "    UPC FLOAT,\n",
    "    Description STRING,\n",
    "    Department FLOAT,\n",
    "    Department_name STRING,\n",
    "    Year TIMESTAMP,\n",
    "    Month TIMESTAMP,\n",
    "    Sales REAL,\n",
    "    Transactions INTEGER,\n",
    "    Items TEXT)''')\n",
    "# add data into the table in db\n",
    "with open(file3, 'r', encoding = 'Latin-1') as infile:\n",
    "    for idx,line in enumerate(infile.readlines()):\n",
    "        line = line.strip().split(',')\n",
    "        cur.execute('''\n",
    "        INSERT INTO sales_by_product_description_by_year_by_month (UPC, Description, Department, Department_name, Year, Month, Sales, Transactions, Items)\n",
    "        VALUES (?,?,?,?,?,?,?,?,?)''', line)\n",
    "db.commit()"
   ]
  },
  {
   "cell_type": "code",
   "execution_count": null,
   "metadata": {},
   "outputs": [],
   "source": []
  }
 ],
 "metadata": {
  "kernelspec": {
   "display_name": "Python 3",
   "language": "python",
   "name": "python3"
  },
  "language_info": {
   "codemirror_mode": {
    "name": "ipython",
    "version": 3
   },
   "file_extension": ".py",
   "mimetype": "text/x-python",
   "name": "python",
   "nbconvert_exporter": "python",
   "pygments_lexer": "ipython3",
   "version": "3.8.5"
  }
 },
 "nbformat": 4,
 "nbformat_minor": 2
}
