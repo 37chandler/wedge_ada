{
 "cells": [
  {
   "cell_type": "markdown",
   "metadata": {},
   "source": [
    "# Task 3 - Build Department Lookup Table\n",
    "Builds a table to add more descriptive text to queries in regards to department."
   ]
  },
  {
   "cell_type": "markdown",
   "metadata": {},
   "source": [
    "#### Imports"
   ]
  },
  {
   "cell_type": "code",
   "execution_count": 5,
   "metadata": {},
   "outputs": [],
   "source": [
    "# Do our imports for the code\n",
    "from google.cloud import bigquery\n",
    "from google.oauth2 import service_account\n",
    "\n",
    "import pandas as pd\n",
    "from pandas.io import gbq"
   ]
  },
  {
   "cell_type": "markdown",
   "metadata": {},
   "source": [
    "#### Connect to GBQ"
   ]
  },
  {
   "cell_type": "code",
   "execution_count": 6,
   "metadata": {},
   "outputs": [],
   "source": [
    "service_path = ' '\n",
    "service_file = ' ' # change this to your authentication information  \n",
    "gbq_proj_id = ' ' # change this to your project. \n",
    "#gbq_dataset_id = ' ' # and change this to your data set ID\n",
    "gbq_dataset_id = ' ' # and change this to your data set ID\n",
    "\n",
    "# Creates private key\n",
    "private_key =service_path + service_file\n"
   ]
  },
  {
   "cell_type": "markdown",
   "metadata": {},
   "source": [
    "#### Credentials"
   ]
  },
  {
   "cell_type": "code",
   "execution_count": 7,
   "metadata": {},
   "outputs": [],
   "source": [
    "# Get your credentials\n",
    "credentials = service_account.Credentials.from_service_account_file(service_path + service_file)\n",
    "\n",
    "# And create a client to talk to GBQ\n",
    "client = bigquery.Client(credentials = credentials, project=gbq_proj_id)"
   ]
  },
  {
   "cell_type": "markdown",
   "metadata": {},
   "source": [
    "### Create Department Lookup Table"
   ]
  },
  {
   "cell_type": "code",
   "execution_count": 8,
   "metadata": {},
   "outputs": [],
   "source": [
    "# Creates a list of department (number) and corresponding department name\n",
    "department = [[1, \"PACKAGED GROCERY\"],\n",
    "[2, \"PRODUCE\"],\n",
    "[3, \"BULK\"],\n",
    "[4, \"REF GROCERY\"],\n",
    "[5, \"CHEESE\"],\n",
    "[6, \"FROZEN\"],\n",
    "[7, \"BREAD\"],\n",
    "[8, \"DELI\"],\n",
    "[9, \"GEN MERCH\"],\n",
    "[10, \"SUPPLEMENTS\"],\n",
    "[11, \"PERSONAL CARE\"],\n",
    "[12, \"HERBS&SPICES\"],\n",
    "[13, \"MEAT\"],\n",
    "[14, \"JUICE BAR\"],\n",
    "[15, \"MISC P/I\"],\n",
    "[16, \"FISH&SEAFOOD\"],\n",
    "[17, \"BAKEHOUSE\"],\n",
    "[18, \"FLOWERS\"],\n",
    "[19, \"WEDGEWORLDWIDE\"],\n",
    "[20, \"MISC P/I - WWW\"],\n",
    "[21, \"CATERING\"],\n",
    "[22, \"BEER & WINE\"]\n",
    "]"
   ]
  },
  {
   "cell_type": "code",
   "execution_count": 9,
   "metadata": {},
   "outputs": [],
   "source": [
    "# Create the pandas DataFrame\n",
    "department = pd.DataFrame(department, columns = ['deptartment', 'department_name'])"
   ]
  },
  {
   "cell_type": "code",
   "execution_count": 3,
   "metadata": {},
   "outputs": [
    {
     "data": {
      "text/plain": [
       "[[1, 'PACKAGED GROCERY'],\n",
       " [2, 'PRODUCE'],\n",
       " [3, 'BULK'],\n",
       " [4, 'REF GROCERY'],\n",
       " [5, 'CHEESE'],\n",
       " [6, 'FROZEN'],\n",
       " [7, 'BREAD'],\n",
       " [8, 'DELI'],\n",
       " [9, 'GEN MERCH'],\n",
       " [10, 'SUPPLEMENTS'],\n",
       " [11, 'PERSONAL CARE'],\n",
       " [12, 'HERBS&SPICES'],\n",
       " [13, 'MEAT'],\n",
       " [14, 'JUICE BAR'],\n",
       " [15, 'MISC P/I'],\n",
       " [16, 'FISH&SEAFOOD'],\n",
       " [17, 'BAKEHOUSE'],\n",
       " [18, 'FLOWERS'],\n",
       " [19, 'WEDGEWORLDWIDE'],\n",
       " [20, 'MISC P/I - WWW'],\n",
       " [21, 'CATERING'],\n",
       " [22, 'BEER & WINE']]"
      ]
     },
     "execution_count": 3,
     "metadata": {},
     "output_type": "execute_result"
    }
   ],
   "source": [
    "# Checks to make sure it worked\n",
    "department"
   ]
  },
  {
   "cell_type": "code",
   "execution_count": 14,
   "metadata": {},
   "outputs": [],
   "source": [
    "# Makes csv to upload to GBQ\n",
    "department.to_csv(r'departments.csv', index = False)"
   ]
  },
  {
   "cell_type": "markdown",
   "metadata": {},
   "source": [
    "### Upload to GBQ"
   ]
  },
  {
   "cell_type": "code",
   "execution_count": 16,
   "metadata": {},
   "outputs": [],
   "source": [
    "my_table = \"departments\"\n",
    "\n",
    "table_full_name = \".\".join([gbq_proj_id,gbq_dataset_id,my_table])"
   ]
  },
  {
   "cell_type": "code",
   "execution_count": 17,
   "metadata": {},
   "outputs": [],
   "source": [
    "def tbl_exists(client, table_ref):\n",
    "    from google.cloud.exceptions import NotFound\n",
    "    try:\n",
    "        client.get_table(table_ref)\n",
    "        return True\n",
    "    except NotFound:\n",
    "        return False"
   ]
  },
  {
   "cell_type": "code",
   "execution_count": 19,
   "metadata": {},
   "outputs": [],
   "source": [
    "if not tbl_exists(client, table_full_name) :\n",
    "    table_ref = client.create_table(\n",
    "        table = table_full_name\n",
    "    )\n",
    "else :\n",
    "    table_ref = client.get_table(table_full_name)"
   ]
  },
  {
   "cell_type": "code",
   "execution_count": 20,
   "metadata": {},
   "outputs": [
    {
     "name": "stdout",
     "output_type": "stream",
     "text": [
      "Table departments contains 2 columns\n"
     ]
    }
   ],
   "source": [
    "table = client.get_table(table_ref)\n",
    "print(\"Table {} contains {} columns\".format(table_ref.table_id,len(table.schema)))"
   ]
  },
  {
   "cell_type": "code",
   "execution_count": 21,
   "metadata": {},
   "outputs": [],
   "source": [
    "job_config = bigquery.LoadJobConfig()\n",
    "job_config.write_disposition = bigquery.WriteDisposition.WRITE_APPEND\n",
    "job_config.schema_update_options = [\n",
    "    bigquery.SchemaUpdateOption.ALLOW_FIELD_ADDITION # This allows us to modify the table. \n",
    "]"
   ]
  },
  {
   "cell_type": "code",
   "execution_count": null,
   "metadata": {},
   "outputs": [],
   "source": [
    "job_config.schema = [\n",
    "    bigquery.SchemaField(\"department\", \"FLOAT\", mode=\"NULLABLE\"),\n",
    "    bigquery.SchemaField(\"department_name\", \"STRING\", mode=\"NULLABLE\"),\n",
    " ]\n",
    "job_config.source_format = bigquery.SourceFormat.CSV\n",
    "job_config.skip_leading_rows = 1"
   ]
  },
  {
   "cell_type": "code",
   "execution_count": null,
   "metadata": {},
   "outputs": [],
   "source": [
    "with open(\"departments.csv\", \"rb\") as source_file:\n",
    "    \n",
    "    job = client.load_table_from_file(\n",
    "        source_file,\n",
    "        table_ref,\n",
    "        location=\"US\",  # Must match the destination dataset location.\n",
    "        job_config=job_config,\n",
    "    )  # API request"
   ]
  }
 ],
 "metadata": {
  "kernelspec": {
   "display_name": "Python 3",
   "language": "python",
   "name": "python3"
  },
  "language_info": {
   "codemirror_mode": {
    "name": "ipython",
    "version": 3
   },
   "file_extension": ".py",
   "mimetype": "text/x-python",
   "name": "python",
   "nbconvert_exporter": "python",
   "pygments_lexer": "ipython3",
   "version": "3.8.5"
  }
 },
 "nbformat": 4,
 "nbformat_minor": 2
}
