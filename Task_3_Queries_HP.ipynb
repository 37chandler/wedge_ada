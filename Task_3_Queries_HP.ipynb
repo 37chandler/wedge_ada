{
 "cells": [
  {
   "cell_type": "markdown",
   "metadata": {},
   "source": [
    "# Task 3 - Build Summary Tables"
   ]
  },
  {
   "cell_type": "markdown",
   "metadata": {},
   "source": [
    "#### Imports"
   ]
  },
  {
   "cell_type": "code",
   "execution_count": 1,
   "metadata": {},
   "outputs": [],
   "source": [
    "from google.cloud import bigquery\n",
    "from google.oauth2 import service_account\n",
    "\n",
    "import pandas as pd\n",
    "from pandas.io import gbq"
   ]
  },
  {
   "cell_type": "markdown",
   "metadata": {},
   "source": [
    "#### Connect to GBQ"
   ]
  },
  {
   "cell_type": "code",
   "execution_count": 2,
   "metadata": {},
   "outputs": [],
   "source": [
    "service_path = ' '\n",
    "service_file = ' ' # change this to your authentication information  \n",
    "gbq_proj_id = ' ' # change this to your project. \n",
    "#gbq_dataset_id = ' ' # and change this to your data set ID\n",
    "gbq_dataset_id = ' ' # and change this to your data set ID\n",
    "\n",
    "# Creates private key \n",
    "private_key =service_path + service_file\n"
   ]
  },
  {
   "cell_type": "markdown",
   "metadata": {},
   "source": [
    "#### Credentials"
   ]
  },
  {
   "cell_type": "code",
   "execution_count": 3,
   "metadata": {},
   "outputs": [],
   "source": [
    "# Get your credentials\n",
    "credentials = service_account.Credentials.from_service_account_file(service_path + service_file)\n",
    "\n",
    "# And create a client to talk to GBQ\n",
    "client = bigquery.Client(credentials = credentials, project=gbq_proj_id)"
   ]
  },
  {
   "cell_type": "markdown",
   "metadata": {},
   "source": [
    "###  Run queries and create text files to be used in database creation"
   ]
  },
  {
   "cell_type": "markdown",
   "metadata": {},
   "source": [
    "#### Question 1 - Sales by date by hour"
   ]
  },
  {
   "cell_type": "code",
   "execution_count": 4,
   "metadata": {},
   "outputs": [],
   "source": [
    "# Runs query\n",
    "\n",
    "q1 = \"\"\"\n",
    "SELECT (EXTRACT(date FROM datetime)) AS Date,\n",
    "(EXTRACT(hour FROM datetime)) AS Hour,\n",
    "SUM(total) AS Sales,\n",
    "COUNT(DISTINCT(Date(datetime) || register_no || emp_no || trans_no)) AS Transactions,\n",
    "SUM(CASE WHEN(trans_status = 'V' OR trans_status = 'R') THEN -1 ELSE 1 END) as Items\n",
    "\n",
    "FROM `wedgehp.other.records_from_sample`\n",
    "\n",
    "WHERE card_no != 3\n",
    "AND department != 0\n",
    "AND department != 15\n",
    "AND trans_status != 'M'\n",
    "AND trans_status != 'C'\n",
    "AND trans_status != 'J'\n",
    "AND (trans_status = ''\n",
    "OR trans_status = ' '\n",
    "OR trans_status =  'V'\n",
    "OR trans_status = 'R')\n",
    "\n",
    "GROUP BY Date, Hour\n",
    "ORDER BY Date ASC, Hour DESC\n",
    "\"\"\"\n",
    "\n",
    "t3q1 = gbq.read_gbq(q1, project_id =\"wedgehp\")\n",
    "\n"
   ]
  },
  {
   "cell_type": "code",
   "execution_count": 11,
   "metadata": {
    "scrolled": true
   },
   "outputs": [
    {
     "data": {
      "text/html": [
       "<div>\n",
       "<style scoped>\n",
       "    .dataframe tbody tr th:only-of-type {\n",
       "        vertical-align: middle;\n",
       "    }\n",
       "\n",
       "    .dataframe tbody tr th {\n",
       "        vertical-align: top;\n",
       "    }\n",
       "\n",
       "    .dataframe thead th {\n",
       "        text-align: right;\n",
       "    }\n",
       "</style>\n",
       "<table border=\"1\" class=\"dataframe\">\n",
       "  <thead>\n",
       "    <tr style=\"text-align: right;\">\n",
       "      <th></th>\n",
       "      <th>Date</th>\n",
       "      <th>Hour</th>\n",
       "      <th>Sales</th>\n",
       "      <th>Transactions</th>\n",
       "      <th>Items</th>\n",
       "    </tr>\n",
       "  </thead>\n",
       "  <tbody>\n",
       "    <tr>\n",
       "      <th>0</th>\n",
       "      <td>2010-01-01</td>\n",
       "      <td>17</td>\n",
       "      <td>28.12</td>\n",
       "      <td>1</td>\n",
       "      <td>8</td>\n",
       "    </tr>\n",
       "    <tr>\n",
       "      <th>1</th>\n",
       "      <td>2010-01-01</td>\n",
       "      <td>15</td>\n",
       "      <td>82.12</td>\n",
       "      <td>1</td>\n",
       "      <td>25</td>\n",
       "    </tr>\n",
       "    <tr>\n",
       "      <th>2</th>\n",
       "      <td>2010-01-01</td>\n",
       "      <td>14</td>\n",
       "      <td>111.55</td>\n",
       "      <td>4</td>\n",
       "      <td>42</td>\n",
       "    </tr>\n",
       "    <tr>\n",
       "      <th>3</th>\n",
       "      <td>2010-01-01</td>\n",
       "      <td>13</td>\n",
       "      <td>90.28</td>\n",
       "      <td>3</td>\n",
       "      <td>27</td>\n",
       "    </tr>\n",
       "    <tr>\n",
       "      <th>4</th>\n",
       "      <td>2010-01-01</td>\n",
       "      <td>12</td>\n",
       "      <td>60.89</td>\n",
       "      <td>2</td>\n",
       "      <td>13</td>\n",
       "    </tr>\n",
       "  </tbody>\n",
       "</table>\n",
       "</div>"
      ],
      "text/plain": [
       "        Date  Hour   Sales  Transactions  Items\n",
       "0 2010-01-01    17   28.12             1      8\n",
       "1 2010-01-01    15   82.12             1     25\n",
       "2 2010-01-01    14  111.55             4     42\n",
       "3 2010-01-01    13   90.28             3     27\n",
       "4 2010-01-01    12   60.89             2     13"
      ]
     },
     "execution_count": 11,
     "metadata": {},
     "output_type": "execute_result"
    }
   ],
   "source": [
    "# Checks to make sure it worked\n",
    "t3q1.head(5)"
   ]
  },
  {
   "cell_type": "code",
   "execution_count": 19,
   "metadata": {},
   "outputs": [],
   "source": [
    "# Saves file to be used in db creation\n",
    "t3q1.to_csv(r'sales_by_date_by_hour.txt',header=None, index=None, sep=',', mode='a')"
   ]
  },
  {
   "cell_type": "markdown",
   "metadata": {},
   "source": [
    "#### Question 2 - Sales by owner by year by month"
   ]
  },
  {
   "cell_type": "code",
   "execution_count": 7,
   "metadata": {},
   "outputs": [],
   "source": [
    "# Runs query\n",
    "\n",
    "q2 = \"\"\"\n",
    "SELECT card_no as owner,\n",
    "(EXTRACT(year FROM datetime)) AS Year,\n",
    "(EXTRACT(month FROM datetime)) AS Month,\n",
    "SUM(total) AS Sales,\n",
    "COUNT(DISTINCT(Date(datetime) || register_no || emp_no || trans_no)) AS Transactions,\n",
    "SUM(CASE WHEN(trans_status = 'V' OR trans_status = 'R') THEN -1 ELSE 1 END) as Items\n",
    "\n",
    "FROM `wedgehp.other.records_from_sample` \n",
    "\n",
    "WHERE card_no != 3\n",
    "AND department != 0\n",
    "AND department != 15\n",
    "AND trans_status != 'M'\n",
    "AND trans_status != 'C'\n",
    "AND trans_status != 'J'\n",
    "AND (trans_status = ''\n",
    "OR trans_status = ' '\n",
    "OR trans_status =  'V'\n",
    "OR trans_status = 'R')\n",
    "\n",
    "GROUP BY Year, Month, owner\n",
    "ORDER BY Year ASC , Month ASC\n",
    "\n",
    "\"\"\"\n",
    "\n",
    "t3q2 = gbq.read_gbq(q2, project_id =\"wedgehp\")\n"
   ]
  },
  {
   "cell_type": "code",
   "execution_count": 8,
   "metadata": {
    "scrolled": false
   },
   "outputs": [
    {
     "data": {
      "text/html": [
       "<div>\n",
       "<style scoped>\n",
       "    .dataframe tbody tr th:only-of-type {\n",
       "        vertical-align: middle;\n",
       "    }\n",
       "\n",
       "    .dataframe tbody tr th {\n",
       "        vertical-align: top;\n",
       "    }\n",
       "\n",
       "    .dataframe thead th {\n",
       "        text-align: right;\n",
       "    }\n",
       "</style>\n",
       "<table border=\"1\" class=\"dataframe\">\n",
       "  <thead>\n",
       "    <tr style=\"text-align: right;\">\n",
       "      <th></th>\n",
       "      <th>owner</th>\n",
       "      <th>Year</th>\n",
       "      <th>Month</th>\n",
       "      <th>Sales</th>\n",
       "      <th>Transactions</th>\n",
       "      <th>Items</th>\n",
       "    </tr>\n",
       "  </thead>\n",
       "  <tbody>\n",
       "    <tr>\n",
       "      <th>0</th>\n",
       "      <td>16143.0</td>\n",
       "      <td>2010</td>\n",
       "      <td>1</td>\n",
       "      <td>928.04</td>\n",
       "      <td>16</td>\n",
       "      <td>240</td>\n",
       "    </tr>\n",
       "    <tr>\n",
       "      <th>1</th>\n",
       "      <td>25395.0</td>\n",
       "      <td>2010</td>\n",
       "      <td>1</td>\n",
       "      <td>1624.29</td>\n",
       "      <td>59</td>\n",
       "      <td>460</td>\n",
       "    </tr>\n",
       "    <tr>\n",
       "      <th>2</th>\n",
       "      <td>23676.0</td>\n",
       "      <td>2010</td>\n",
       "      <td>1</td>\n",
       "      <td>744.62</td>\n",
       "      <td>7</td>\n",
       "      <td>190</td>\n",
       "    </tr>\n",
       "    <tr>\n",
       "      <th>3</th>\n",
       "      <td>18003.0</td>\n",
       "      <td>2010</td>\n",
       "      <td>1</td>\n",
       "      <td>550.48</td>\n",
       "      <td>7</td>\n",
       "      <td>85</td>\n",
       "    </tr>\n",
       "    <tr>\n",
       "      <th>4</th>\n",
       "      <td>20914.0</td>\n",
       "      <td>2010</td>\n",
       "      <td>1</td>\n",
       "      <td>131.10</td>\n",
       "      <td>3</td>\n",
       "      <td>37</td>\n",
       "    </tr>\n",
       "  </tbody>\n",
       "</table>\n",
       "</div>"
      ],
      "text/plain": [
       "     owner  Year  Month    Sales  Transactions  Items\n",
       "0  16143.0  2010      1   928.04            16    240\n",
       "1  25395.0  2010      1  1624.29            59    460\n",
       "2  23676.0  2010      1   744.62             7    190\n",
       "3  18003.0  2010      1   550.48             7     85\n",
       "4  20914.0  2010      1   131.10             3     37"
      ]
     },
     "execution_count": 8,
     "metadata": {},
     "output_type": "execute_result"
    }
   ],
   "source": [
    "# Checks to make sure it worked\n",
    "t3q2.head(5)"
   ]
  },
  {
   "cell_type": "code",
   "execution_count": 20,
   "metadata": {},
   "outputs": [],
   "source": [
    "# Saves file to be used in db creation\n",
    "t3q2.to_csv(r'sales_by_owner_by_year_by_month.txt', header=None,index=None, sep=',', mode='a')"
   ]
  },
  {
   "cell_type": "markdown",
   "metadata": {},
   "source": [
    "#### Question 3 - Sales by product description by year by month"
   ]
  },
  {
   "cell_type": "code",
   "execution_count": 13,
   "metadata": {},
   "outputs": [],
   "source": [
    "# Runs query\n",
    "q3 = \"\"\"\n",
    "\n",
    "SELECT upc, description, A.department, B.department_name,\n",
    "(EXTRACT(year FROM datetime)) AS Year,\n",
    "(EXTRACT(month FROM datetime)) AS Month,\n",
    "SUM(total) AS Sales,\n",
    "COUNT(DISTINCT(Date(datetime) || register_no || emp_no || trans_no)) AS Transactions,\n",
    "SUM(CASE WHEN(trans_status = 'V' OR trans_status = 'R') THEN -1 ELSE 1 END) as Items\n",
    "\n",
    "FROM `wedgehp.other.records_from_sample` A\n",
    "JOIN `wedgehp.other.departments` B ON A.department = B.department\n",
    "\n",
    "WHERE card_no != 3\n",
    "AND a.department != 0\n",
    "AND a.department != 15\n",
    "AND trans_status != 'M'\n",
    "AND trans_status != 'C'\n",
    "AND trans_status != 'J'\n",
    "AND (trans_status = ''\n",
    "OR trans_status = ' '\n",
    "OR trans_status =  'V'\n",
    "OR trans_status = 'R')\n",
    "\n",
    "GROUP BY Year, Month, description, A.department, B.department_name, upc\n",
    "ORDER BY Year ASC, Month ASC\n",
    "\n",
    "\"\"\"\n",
    "\n",
    "t3q3 = gbq.read_gbq(q3, project_id =\"wedgehp\")\n"
   ]
  },
  {
   "cell_type": "code",
   "execution_count": 21,
   "metadata": {},
   "outputs": [
    {
     "data": {
      "text/html": [
       "<div>\n",
       "<style scoped>\n",
       "    .dataframe tbody tr th:only-of-type {\n",
       "        vertical-align: middle;\n",
       "    }\n",
       "\n",
       "    .dataframe tbody tr th {\n",
       "        vertical-align: top;\n",
       "    }\n",
       "\n",
       "    .dataframe thead th {\n",
       "        text-align: right;\n",
       "    }\n",
       "</style>\n",
       "<table border=\"1\" class=\"dataframe\">\n",
       "  <thead>\n",
       "    <tr style=\"text-align: right;\">\n",
       "      <th></th>\n",
       "      <th>upc</th>\n",
       "      <th>description</th>\n",
       "      <th>department</th>\n",
       "      <th>department_name</th>\n",
       "      <th>Year</th>\n",
       "      <th>Month</th>\n",
       "      <th>Sales</th>\n",
       "      <th>Transactions</th>\n",
       "      <th>Items</th>\n",
       "    </tr>\n",
       "  </thead>\n",
       "  <tbody>\n",
       "    <tr>\n",
       "      <th>0</th>\n",
       "      <td>0.21DP4</td>\n",
       "      <td>REF GROCERY</td>\n",
       "      <td>4.000000000</td>\n",
       "      <td>REF GROCERY</td>\n",
       "      <td>2010</td>\n",
       "      <td>1</td>\n",
       "      <td>0.00</td>\n",
       "      <td>1</td>\n",
       "      <td>0</td>\n",
       "    </tr>\n",
       "    <tr>\n",
       "      <th>1</th>\n",
       "      <td>0.89DP9</td>\n",
       "      <td>GEN MERCH</td>\n",
       "      <td>9.000000000</td>\n",
       "      <td>GEN MERCH</td>\n",
       "      <td>2010</td>\n",
       "      <td>1</td>\n",
       "      <td>1.78</td>\n",
       "      <td>2</td>\n",
       "      <td>2</td>\n",
       "    </tr>\n",
       "    <tr>\n",
       "      <th>2</th>\n",
       "      <td>1.98DP11</td>\n",
       "      <td>PERSONAL CARE</td>\n",
       "      <td>11.000000000</td>\n",
       "      <td>PERSONAL CARE</td>\n",
       "      <td>2010</td>\n",
       "      <td>1</td>\n",
       "      <td>1.98</td>\n",
       "      <td>1</td>\n",
       "      <td>1</td>\n",
       "    </tr>\n",
       "    <tr>\n",
       "      <th>3</th>\n",
       "      <td>38.02DP3</td>\n",
       "      <td>BULK</td>\n",
       "      <td>3.000000000</td>\n",
       "      <td>BULK</td>\n",
       "      <td>2010</td>\n",
       "      <td>1</td>\n",
       "      <td>76.04</td>\n",
       "      <td>2</td>\n",
       "      <td>0</td>\n",
       "    </tr>\n",
       "    <tr>\n",
       "      <th>4</th>\n",
       "      <td>4.07DP13</td>\n",
       "      <td>MEAT</td>\n",
       "      <td>13.000000000</td>\n",
       "      <td>MEAT</td>\n",
       "      <td>2010</td>\n",
       "      <td>1</td>\n",
       "      <td>4.07</td>\n",
       "      <td>1</td>\n",
       "      <td>1</td>\n",
       "    </tr>\n",
       "  </tbody>\n",
       "</table>\n",
       "</div>"
      ],
      "text/plain": [
       "        upc    description    department department_name  Year  Month  Sales  \\\n",
       "0   0.21DP4    REF GROCERY   4.000000000     REF GROCERY  2010      1   0.00   \n",
       "1   0.89DP9      GEN MERCH   9.000000000       GEN MERCH  2010      1   1.78   \n",
       "2  1.98DP11  PERSONAL CARE  11.000000000   PERSONAL CARE  2010      1   1.98   \n",
       "3  38.02DP3           BULK   3.000000000            BULK  2010      1  76.04   \n",
       "4  4.07DP13           MEAT  13.000000000            MEAT  2010      1   4.07   \n",
       "\n",
       "   Transactions  Items  \n",
       "0             1      0  \n",
       "1             2      2  \n",
       "2             1      1  \n",
       "3             2      0  \n",
       "4             1      1  "
      ]
     },
     "execution_count": 21,
     "metadata": {},
     "output_type": "execute_result"
    }
   ],
   "source": [
    "# Checks to make sure it worked\n",
    "t3q3.head(5)"
   ]
  },
  {
   "cell_type": "code",
   "execution_count": 18,
   "metadata": {},
   "outputs": [],
   "source": [
    "# Saves dile for db creation\n",
    "t3q3.to_csv(r'sales_by_product_description_by_year_by_month.txt', header=None, index=None, sep=',', mode='a')"
   ]
  }
 ],
 "metadata": {
  "kernelspec": {
   "display_name": "Python 3",
   "language": "python",
   "name": "python3"
  },
  "language_info": {
   "codemirror_mode": {
    "name": "ipython",
    "version": 3
   },
   "file_extension": ".py",
   "mimetype": "text/x-python",
   "name": "python",
   "nbconvert_exporter": "python",
   "pygments_lexer": "ipython3",
   "version": "3.8.5"
  }
 },
 "nbformat": 4,
 "nbformat_minor": 2
}
